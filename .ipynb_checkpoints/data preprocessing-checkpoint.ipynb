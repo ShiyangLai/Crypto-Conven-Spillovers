{
 "cells": [
  {
   "cell_type": "code",
   "execution_count": 1,
   "id": "f96f629e-f051-416f-8475-c0ee53c1199d",
   "metadata": {},
   "outputs": [],
   "source": [
    "import numpy as np\n",
    "import pandas as pd\n",
    "import glob, os\n",
    "import warnings\n",
    "warnings.filterwarnings(\"ignore\")"
   ]
  },
  {
   "cell_type": "code",
   "execution_count": 2,
   "id": "297238b3-9167-41e7-9b40-70f828e7f55e",
   "metadata": {},
   "outputs": [],
   "source": [
    "# method of read files\n",
    "def read_currencies(folder_path, _type='conventional'):\n",
    "    datasets = {}\n",
    "    if _type == 'conventional':\n",
    "        files = glob.glob(os.path.join(folder_path, \"*.csv\"))\n",
    "        for file in files:\n",
    "            name = ''.join(file.split('/')[-1].split('.')[0])\n",
    "            datasets[name] = pd.read_csv(file)\n",
    "    else:\n",
    "        files = glob.glob(os.path.join(folder_path, \"*.xlsx\"))\n",
    "        for file in files:\n",
    "            name = file.split('/')[-1].split(' ')[0] + 'USD'\n",
    "            datasets[name] = pd.read_excel(file)\n",
    "    return datasets"
   ]
  },
  {
   "cell_type": "code",
   "execution_count": 3,
   "id": "5e07e6e9-882c-4c5a-b83e-11db7fd88574",
   "metadata": {},
   "outputs": [],
   "source": [
    "crypto = read_currencies(\"/Users/shiyang/Desktop/cryptocurrency/Crypto Data\", _type='crypto')\n",
    "conven = read_currencies(\"/Users/shiyang/Desktop/cryptocurrency/Conven Data\", _type='conventional')"
   ]
  },
  {
   "cell_type": "code",
   "execution_count": 4,
   "id": "ad0bf428-f759-4e18-9a6d-5bcaeaed7d7c",
   "metadata": {},
   "outputs": [],
   "source": [
    "# fill data set\n",
    "def fill_dataset(dataset, start_date, end_date):\n",
    "    dataset.Date = pd.to_datetime(dataset.Date)\n",
    "    dataset = dataset[(dataset.Date >= start_date) & (dataset.Date <= end_date)]\n",
    "    dates = pd.date_range(str(start_date), str(end_date)).to_list()\n",
    "    dataset.set_index('Date', inplace=True)\n",
    "    new_dataset = pd.DataFrame(columns=dataset.columns, index=dates)\n",
    "    for index, row in dataset.iterrows():\n",
    "        new_dataset.loc[index, :] = dataset.loc[index, :]\n",
    "    new_dataset.fillna(method='bfill', inplace=True)\n",
    "    new_dataset.fillna(method='ffill', inplace=True)\n",
    "    new_dataset.reset_index(inplace=True)\n",
    "    new_dataset.rename(columns={'index': 'Date'}, inplace=True)\n",
    "    return new_dataset"
   ]
  },
  {
   "cell_type": "code",
   "execution_count": 5,
   "id": "ea3d9de5-7406-4a76-87a3-6b4ad7fdee5c",
   "metadata": {},
   "outputs": [],
   "source": [
    "# change the unit of exchange rate to US dollar\n",
    "def unify_unit(dataset, set_name):\n",
    "    if set_name[-3:] == 'USD':\n",
    "        for col in ['Open', 'Close', 'High', 'Low']:\n",
    "            dataset[col] = 1/dataset[col]\n",
    "        set_name = 'USD' + set_name[:-3]\n",
    "    return dataset, set_name"
   ]
  },
  {
   "cell_type": "code",
   "execution_count": 6,
   "id": "558cc845-8d93-44d6-bd2a-0cbd2ce12fc7",
   "metadata": {
    "scrolled": true,
    "tags": []
   },
   "outputs": [],
   "source": [
    "origional_keys = list(conven.keys()).copy()\n",
    "for set_name in origional_keys:\n",
    "    conven[set_name] = fill_dataset(conven[set_name], '2009-01-01', '2022-01-01')\n",
    "    dataset, new_set_name = unify_unit(conven[set_name], set_name)\n",
    "    if set_name != new_set_name:\n",
    "        del conven[set_name]\n",
    "        conven[new_set_name] = dataset"
   ]
  },
  {
   "cell_type": "code",
   "execution_count": 7,
   "id": "6f557c8e-5b3e-4959-b73e-eabd2743516a",
   "metadata": {
    "tags": []
   },
   "outputs": [],
   "source": [
    "origional_keys = list(crypto.keys()).copy()\n",
    "for set_name in origional_keys:\n",
    "    crypto[set_name] = fill_dataset(crypto[set_name], '2009-01-01', '2022-01-01')\n",
    "    dataset, new_set_name = unify_unit(crypto[set_name], set_name)\n",
    "    if set_name != new_set_name:\n",
    "        del crypto[set_name]\n",
    "        crypto[new_set_name] = dataset"
   ]
  },
  {
   "cell_type": "code",
   "execution_count": null,
   "id": "1944a7c3-ad9c-46ee-a2a7-a27d8152ba3f",
   "metadata": {},
   "outputs": [],
   "source": [
    "# calculate the returns\n",
    "def calculate_returns(dataset, _by='Close', how='mixed'):\n",
    "    "
   ]
  },
  {
   "cell_type": "code",
   "execution_count": null,
   "id": "52566ac0-e23c-42c7-b07a-03c953e52c17",
   "metadata": {},
   "outputs": [],
   "source": []
  }
 ],
 "metadata": {
  "kernelspec": {
   "display_name": "Python 3 (ipykernel)",
   "language": "python",
   "name": "python3"
  },
  "language_info": {
   "codemirror_mode": {
    "name": "ipython",
    "version": 3
   },
   "file_extension": ".py",
   "mimetype": "text/x-python",
   "name": "python",
   "nbconvert_exporter": "python",
   "pygments_lexer": "ipython3",
   "version": "3.8.8"
  }
 },
 "nbformat": 4,
 "nbformat_minor": 5
}
